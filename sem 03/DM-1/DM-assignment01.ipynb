{
 "cells": [
  {
   "cell_type": "markdown",
   "metadata": {},
   "source": [
    "### inputing values of universal set, set A and set B"
   ]
  },
  {
   "cell_type": "code",
   "execution_count": 134,
   "metadata": {},
   "outputs": [
    {
     "name": "stdout",
     "output_type": "stream",
     "text": [
      "Enter Universal set values: 1 2 3 4 5 6 a b c d e\n",
      "Enter set A values: 1 3 4 6 a c e\n",
      "Enter set B values:2 3 5 6 b c d\n"
     ]
    }
   ],
   "source": [
    "U=set(list(input(\"Enter Universal set values: \").split(' ')))\n",
    "A=set(list(input(\"Enter set A values: \").split(' ')))\n",
    "B=set(list(input(\"Enter set B values:\").split(' ')))"
   ]
  },
  {
   "cell_type": "code",
   "execution_count": 135,
   "metadata": {},
   "outputs": [
    {
     "name": "stdout",
     "output_type": "stream",
     "text": [
      "A =  {'a', '1', '3', '4', '6', 'c', 'e'}\n",
      "B =  {'d', '5', '3', '2', 'b', '6', 'c'}\n",
      "U =  {'a', '1', 'd', '5', '3', '2', 'b', '4', '6', 'c', 'e'}\n"
     ]
    }
   ],
   "source": [
    "print(\"A = \",A)\n",
    "print(\"B = \",B)\n",
    "print(\"U = \",U)"
   ]
  },
  {
   "cell_type": "markdown",
   "metadata": {},
   "source": [
    "### sets operations using inbuilt commands "
   ]
  },
  {
   "cell_type": "code",
   "execution_count": 28,
   "metadata": {},
   "outputs": [
    {
     "name": "stdout",
     "output_type": "stream",
     "text": [
      "Union set : {'1', '4', '5', '6', '3', '2'}\n",
      "Intersection set : {'4', '2'}\n",
      "Difference set: {'6', '3', '5'}\n",
      "Compliment set : {'1'}\n"
     ]
    }
   ],
   "source": [
    "# union \n",
    "print(\"Union set :\", A | B) \n",
    "  \n",
    "# intersection \n",
    "print(\"Intersection set :\", A & B) \n",
    "  \n",
    "# difference \n",
    "print(\"Difference set:\", A - B) \n",
    "  \n",
    "# compliment \n",
    "print(\"Compliment set :\", U - A) \n",
    "\n"
   ]
  },
  {
   "cell_type": "markdown",
   "metadata": {},
   "source": [
    "### functions for doing set operations from scratch (without using inbuilt commands)"
   ]
  },
  {
   "cell_type": "code",
   "execution_count": 4,
   "metadata": {},
   "outputs": [],
   "source": [
    "def union(A,B): #function for doing union of sets A and B\n",
    "    s=[]\n",
    "    for x in A:\n",
    "        s.append(x)\n",
    "    for x in B:\n",
    "        s.append(x)\n",
    "    return set(s)"
   ]
  },
  {
   "cell_type": "code",
   "execution_count": 5,
   "metadata": {},
   "outputs": [],
   "source": [
    "def intersection(A,B): #function for intersection of sets A and B\n",
    "    s=[]\n",
    "    for x in A:\n",
    "        if x in B:\n",
    "            s.append(x)\n",
    "    return set(s)"
   ]
  },
  {
   "cell_type": "code",
   "execution_count": 6,
   "metadata": {},
   "outputs": [],
   "source": [
    "def difference(A,B): #function for doing difference of sets a and b\n",
    "    s=[]\n",
    "    for x in A:\n",
    "        if x not in B:\n",
    "            s.append(x)\n",
    "    return set(s)"
   ]
  },
  {
   "cell_type": "code",
   "execution_count": 7,
   "metadata": {},
   "outputs": [],
   "source": [
    "def compliment(U,A): #function for doing compliment of set a\n",
    "    return difference(U,A)"
   ]
  },
  {
   "cell_type": "markdown",
   "metadata": {},
   "source": [
    "### calling function for performing set operations"
   ]
  },
  {
   "cell_type": "code",
   "execution_count": 137,
   "metadata": {},
   "outputs": [
    {
     "name": "stdout",
     "output_type": "stream",
     "text": [
      "Union set : {'a', '1', 'd', '5', '3', '2', 'b', '4', '6', 'c', 'e'}\n",
      "Intersection set : {'6', '3', 'c'}\n",
      "Difference set: {'a', '1', '4', 'e'}\n",
      "Compliment set : {'2', 'd', 'b', '5'}\n"
     ]
    }
   ],
   "source": [
    "# union \n",
    "print(\"Union set :\", union(A,B)) \n",
    "  \n",
    "# intersection \n",
    "print(\"Intersection set :\", intersection(A,B)) \n",
    " \n",
    "# difference \n",
    "print(\"Difference set:\", difference(A,B)) \n",
    "  \n",
    "# compliment \n",
    "print(\"Compliment set :\", compliment(U,A)) \n"
   ]
  },
  {
   "cell_type": "code",
   "execution_count": 139,
   "metadata": {
    "scrolled": false
   },
   "outputs": [
    {
     "data": {
      "image/png": "[encoded data removed]",
      "text/plain": [
       "<Figure size 432x288 with 1 Axes>"
      ]
     },
     "metadata": {},
     "output_type": "display_data"
    }
   ],
   "source": [
    "import matplotlib_venn as vplt\n",
    "from matplotlib import pyplot as plt\n",
    "v = vplt.venn2([A,B], ('Set A', 'Set B'))\n",
    "\n",
    "v.get_label_by_id('10').set_text('\\n'.join(A-B))\n",
    "v.get_label_by_id('11').set_text('\\n'.join(A&B))\n",
    "v.get_label_by_id('01').set_text('\\n'.join((B-A)))"
   ]
  },
  {
   "cell_type": "code",
   "execution_count": null,
   "metadata": {},
   "outputs": [],
   "source": []
  },
  {
   "cell_type": "code",
   "execution_count": 141,
   "metadata": {},
   "outputs": [
    {
     "data": {
      "image/png": "[encoded data removed]",
      "text/plain": [
       "<Figure size 432x288 with 1 Axes>"
      ]
     },
     "metadata": {},
     "output_type": "display_data"
    }
   ],
   "source": [
    "\n",
    "import matplotlib.pyplot as plt\n",
    "from matplotlib_venn import venn3\n",
    "P = set([9,3,6])\n",
    "Q = set([2,4,6,8])\n",
    "C = set([0,5,1,7])\n",
    "v = venn3([A,B,C], ('P', 'Q', 'U'))\n",
    "\n",
    "v.get_label_by_id('100').set_text('\\n'.join(map(str,A-B)))\n",
    "v.get_label_by_id('110').set_text('\\n'.join(map(str,A&B)))\n",
    "v.get_label_by_id('010').set_text('\\n'.join(map(str,B-A)))\n",
    "v.get_label_by_id('001').set_text('\\n'.join(map(str,C)))\n",
    "v.get_patch_by_id('001').set_color('white')\n",
    "plt.axis('on')\n",
    "plt.show()"
   ]
  },
  {
   "cell_type": "code",
   "execution_count": null,
   "metadata": {},
   "outputs": [],
   "source": []
  }
 ],
 "metadata": {
  "kernelspec": {
   "display_name": "Python 3",
   "language": "python",
   "name": "python3"
  },
  "language_info": {
   "codemirror_mode": {
    "name": "ipython",
    "version": 3
   },
   "file_extension": ".py",
   "mimetype": "text/x-python",
   "name": "python",
   "nbconvert_exporter": "python",
   "pygments_lexer": "ipython3",
   "version": "3.7.3"
  }
 },
 "nbformat": 4,
 "nbformat_minor": 2
}
