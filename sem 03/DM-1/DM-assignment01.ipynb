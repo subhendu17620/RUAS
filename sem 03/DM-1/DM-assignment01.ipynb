{
 "cells": [
  {
   "cell_type": "markdown",
   "metadata": {},
   "source": [
    "## sets operations using inbuilt commands "
   ]
  },
  {
   "cell_type": "code",
   "execution_count": 1,
   "metadata": {},
   "outputs": [
    {
     "name": "stdout",
     "output_type": "stream",
     "text": [
      "Union set : {0, 1, 2, 3, 4, 5, 6, 8}\n",
      "Intersection set : {2, 4}\n",
      "Difference set: {0, 8, 6}\n",
      "Compliment set : {1, 3, 5, 7, 9, 10, 11, 12, 13, 14, 15}\n"
     ]
    }
   ],
   "source": [
    "A = {0, 2, 4, 6, 8}; \n",
    "B = {1, 2, 3, 4, 5}; \n",
    "U = {1,2,3,4,5,6,7,8,9,10,11,12,13,14,15} \n",
    "\n",
    "# union \n",
    "print(\"Union set :\", A | B) \n",
    "  \n",
    "# intersection \n",
    "print(\"Intersection set :\", A & B) \n",
    "  \n",
    "# difference \n",
    "print(\"Difference set:\", A - B) \n",
    "  \n",
    "# compliment \n",
    "print(\"Compliment set :\", U - A) \n",
    "\n"
   ]
  },
  {
   "cell_type": "markdown",
   "metadata": {},
   "source": [
    "## functions for doing set operations from scratch (without using inbuilt commands)"
   ]
  },
  {
   "cell_type": "code",
   "execution_count": 2,
   "metadata": {},
   "outputs": [],
   "source": [
    "def union(A,B): #function for doing union of sets A and B\n",
    "    s=[]\n",
    "    for x in A:\n",
    "        s.append(x)\n",
    "    for x in B:\n",
    "        s.append(x)\n",
    "    return set(s)"
   ]
  },
  {
   "cell_type": "code",
   "execution_count": 3,
   "metadata": {},
   "outputs": [],
   "source": [
    "def intersection(A,B): #function for intersection of sets A and B\n",
    "    s=[]\n",
    "    for x in A:\n",
    "        if x in B:\n",
    "            s.append(x)\n",
    "    return set(s)"
   ]
  },
  {
   "cell_type": "code",
   "execution_count": 4,
   "metadata": {},
   "outputs": [],
   "source": [
    "def difference(A,B): #function for doing difference of sets a and b\n",
    "    s=[]\n",
    "    for x in A:\n",
    "        if x not in B:\n",
    "            s.append(x)\n",
    "    return set(s)"
   ]
  },
  {
   "cell_type": "code",
   "execution_count": 5,
   "metadata": {},
   "outputs": [],
   "source": [
    "def compliment(U,A): #function for doing compliment of set a\n",
    "    return difference(U,A)"
   ]
  },
  {
   "cell_type": "code",
   "execution_count": 17,
   "metadata": {},
   "outputs": [],
   "source": [
    "A=set(['a','c',1,2,3]) # A is a set of all the integers from -5 to 5\n",
    "B=set(['c','d','e',2,3,4,5]) # B is a set of square of integers from -5 to 1\n",
    "U=set(['a','b','c','d','e',1,2,3,4,5]) # U, universal set is a set of all the integers from -10 to 30"
   ]
  },
  {
   "cell_type": "markdown",
   "metadata": {},
   "source": [
    "### printing set A, B and U"
   ]
  },
  {
   "cell_type": "code",
   "execution_count": 29,
   "metadata": {},
   "outputs": [
    {
     "name": "stdout",
     "output_type": "stream",
     "text": [
      "A =  {'c', 2, 3, 1, 'a'}\n",
      "B =  {'c', 'e', 3, 2, 4, 5, 'd'}\n",
      "U =  {'c', 'b', 'e', 1, 2, 3, 4, 5, 'a', 'd'}\n"
     ]
    }
   ],
   "source": [
    "print(\"A = \",A)\n",
    "print(\"B = \",B)\n",
    "print(\"U = \",U)"
   ]
  },
  {
   "cell_type": "markdown",
   "metadata": {},
   "source": [
    "### calling function for performing set operations"
   ]
  },
  {
   "cell_type": "code",
   "execution_count": 19,
   "metadata": {},
   "outputs": [
    {
     "name": "stdout",
     "output_type": "stream",
     "text": [
      "Union set : {'c', 2, 3, 1, 'e', 4, 5, 'a', 'd'}\n",
      "Intersection set : {'c', 2, 3}\n",
      "Difference set: {1, 'a'}\n",
      "Compliment set : {'b', 'e', 4, 5, 'd'}\n"
     ]
    }
   ],
   "source": [
    "# union \n",
    "print(\"Union set :\", union(A,B)) \n",
    "  \n",
    "# intersection \n",
    "print(\"Intersection set :\", intersection(A,B)) \n",
    "  \n",
    "# difference \n",
    "print(\"Difference set:\", difference(A,B)) \n",
    "  \n",
    "# compliment \n",
    "print(\"Compliment set :\", compliment(U,A)) \n"
   ]
  },
  {
   "cell_type": "code",
   "execution_count": 20,
   "metadata": {},
   "outputs": [],
   "source": [
    "import matplotlib.pyplot as plt\n",
    "from matplotlib_venn import venn2"
   ]
  },
  {
   "cell_type": "code",
   "execution_count": 21,
   "metadata": {},
   "outputs": [
    {
     "data": {
      "image/png": "[encoded data removed]",
      "text/plain": [
       "<Figure size 432x288 with 1 Axes>"
      ]
     },
     "metadata": {},
     "output_type": "display_data"
    }
   ],
   "source": [
    "venn2(subsets = (5, 5, 2), set_labels = ('Group A', 'Group B'))\n",
    "plt.show()"
   ]
  },
  {
   "cell_type": "code",
   "execution_count": 28,
   "metadata": {},
   "outputs": [
    {
     "data": {
      "image/png": "[encoded data removed]",
      "text/plain": [
       "<Figure size 432x288 with 1 Axes>"
      ]
     },
     "metadata": {},
     "output_type": "display_data"
    }
   ],
   "source": [
    "venn2([A ,B],set_labels = ('Group A', 'Group B'))\n",
    "plt.show()"
   ]
  },
  {
   "cell_type": "code",
   "execution_count": null,
   "metadata": {},
   "outputs": [],
   "source": []
  }
 ],
 "metadata": {
  "kernelspec": {
   "display_name": "Python 3",
   "language": "python",
   "name": "python3"
  },
  "language_info": {
   "codemirror_mode": {
    "name": "ipython",
    "version": 3
   },
   "file_extension": ".py",
   "mimetype": "text/x-python",
   "name": "python",
   "nbconvert_exporter": "python",
   "pygments_lexer": "ipython3",
   "version": "3.7.3"
  }
 },
 "nbformat": 4,
 "nbformat_minor": 2
}
