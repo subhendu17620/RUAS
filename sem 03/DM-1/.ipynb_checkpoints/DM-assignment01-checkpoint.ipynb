{
 "cells": [
  {
   "cell_type": "markdown",
   "metadata": {},
   "source": [
    "### inputing values of universal set, set A and set B"
   ]
  },
  {
   "cell_type": "code",
   "execution_count": 1,
   "metadata": {},
   "outputs": [
    {
     "name": "stdout",
     "output_type": "stream",
     "text": [
      "Enter Universal set values: 1 2 3 4 5 6 a b c d e\n",
      "Enter set A values: 1 3 4 a c 6 e\n",
      "Enter set B values:2 3 5 b c d\n"
     ]
    }
   ],
   "source": [
    "U=set(list(input(\"Enter Universal set values: \").split(' ')))\n",
    "A=set(list(input(\"Enter set A values: \").split(' ')))\n",
    "B=set(list(input(\"Enter set B values:\").split(' ')))"
   ]
  },
  {
   "cell_type": "code",
   "execution_count": 2,
   "metadata": {},
   "outputs": [
    {
     "name": "stdout",
     "output_type": "stream",
     "text": [
      "A =  {'3', '6', '4', 'e', 'c', '1', 'a'}\n",
      "B =  {'b', '3', '5', 'c', '2', 'd'}\n",
      "U =  {'b', '3', '6', '4', '5', 'e', 'c', '2', '1', 'd', 'a'}\n"
     ]
    }
   ],
   "source": [
    "print(\"A = \",A)\n",
    "print(\"B = \",B)\n",
    "print(\"U = \",U)"
   ]
  },
  {
   "cell_type": "markdown",
   "metadata": {},
   "source": [
    "### sets operations using inbuilt commands "
   ]
  },
  {
   "cell_type": "code",
   "execution_count": 3,
   "metadata": {},
   "outputs": [
    {
     "name": "stdout",
     "output_type": "stream",
     "text": [
      "Union set : {'b', '3', '6', '4', '5', 'e', 'c', '2', '1', 'd', 'a'}\n",
      "Intersection set : {'c', '3'}\n",
      "Difference set: {'6', '4', 'e', '1', 'a'}\n",
      "Compliment set : {'b', '2', 'd', '5'}\n"
     ]
    }
   ],
   "source": [
    "# union \n",
    "print(\"Union set :\", A | B) \n",
    "  \n",
    "# intersection \n",
    "print(\"Intersection set :\", A & B) \n",
    "  \n",
    "# difference \n",
    "print(\"Difference set:\", A - B) \n",
    "  \n",
    "# compliment \n",
    "print(\"Compliment set :\", U - A) \n",
    "\n"
   ]
  },
  {
   "cell_type": "markdown",
   "metadata": {},
   "source": [
    "### functions for doing set operations from scratch (without using inbuilt commands)"
   ]
  },
  {
   "cell_type": "code",
   "execution_count": 4,
   "metadata": {},
   "outputs": [],
   "source": [
    "def union(A,B): #function for doing union of sets A and B\n",
    "    s=[]\n",
    "    for x in A:\n",
    "        s.append(x)\n",
    "    for x in B:\n",
    "        s.append(x)\n",
    "    return set(s)"
   ]
  },
  {
   "cell_type": "code",
   "execution_count": 5,
   "metadata": {},
   "outputs": [],
   "source": [
    "def intersection(A,B): #function for intersection of sets A and B\n",
    "    s=[]\n",
    "    for x in A:\n",
    "        if x in B:\n",
    "            s.append(x)\n",
    "    return set(s)"
   ]
  },
  {
   "cell_type": "code",
   "execution_count": 6,
   "metadata": {},
   "outputs": [],
   "source": [
    "def difference(A,B): #function for doing difference of sets a and b\n",
    "    s=[]\n",
    "    for x in A:\n",
    "        if x not in B:\n",
    "            s.append(x)\n",
    "    return set(s)"
   ]
  },
  {
   "cell_type": "code",
   "execution_count": 7,
   "metadata": {},
   "outputs": [],
   "source": [
    "def compliment(U,A): #function for doing compliment of set a\n",
    "    return difference(U,A)"
   ]
  },
  {
   "cell_type": "markdown",
   "metadata": {},
   "source": [
    "### calling function for performing set operations"
   ]
  },
  {
   "cell_type": "code",
   "execution_count": 8,
   "metadata": {},
   "outputs": [
    {
     "name": "stdout",
     "output_type": "stream",
     "text": [
      "Union set : {'b', '3', '6', '4', '5', 'e', 'c', '2', '1', 'd', 'a'}\n",
      "Intersection set : {'c', '3'}\n",
      "Difference set: {'6', '4', 'e', '1', 'a'}\n",
      "Compliment set : {'b', '2', 'd', '5'}\n"
     ]
    }
   ],
   "source": [
    "# union \n",
    "print(\"Union set :\", union(A,B)) \n",
    "  \n",
    "# intersection \n",
    "print(\"Intersection set :\", intersection(A,B)) \n",
    " \n",
    "# difference \n",
    "print(\"Difference set:\", difference(A,B)) \n",
    "  \n",
    "# compliment \n",
    "print(\"Compliment set :\", compliment(U,A)) \n"
   ]
  },
  {
   "cell_type": "code",
   "execution_count": 54,
   "metadata": {},
   "outputs": [],
   "source": [
    "import matplotlib_venn as vplt\n",
    "from matplotlib import pyplot as plt"
   ]
  },
  {
   "cell_type": "code",
   "execution_count": 55,
   "metadata": {
    "scrolled": false
   },
   "outputs": [
    {
     "data": {
      "image/png": "[encoded data removed]",
      "text/plain": [
       "<Figure size 432x288 with 1 Axes>"
      ]
     },
     "metadata": {},
     "output_type": "display_data"
    }
   ],
   "source": [
    "plt.title('Whole Venn Diagram')\n",
    "v = vplt.venn2([A,B], ('Set A', 'Set B'),alpha=0.6)\n",
    "\n",
    "v.get_label_by_id('10').set_text('\\n'.join(A-B))\n",
    "v.get_label_by_id('11').set_text('\\n'.join(A&B))\n",
    "v.get_label_by_id('01').set_text('\\n'.join((B-A)))\n",
    "plt.gca().set_facecolor('white')\n",
    "plt.annotate('U',xy=(-0.7,0.45))\n",
    "plt.gca().set_axis_on()"
   ]
  },
  {
   "cell_type": "code",
   "execution_count": 56,
   "metadata": {},
   "outputs": [
    {
     "data": {
      "image/png": "[encoded data removed]",
      "text/plain": [
       "<Figure size 432x288 with 1 Axes>"
      ]
     },
     "metadata": {},
     "output_type": "display_data"
    }
   ],
   "source": [
    "plt.title('A intersection B')\n",
    "v = vplt.venn2([A,B], ('Set A', 'Set B'),set_colors=('w','w'),alpha=1)\n",
    "v.get_patch_by_id('11').set_color('red')\n",
    "v.get_label_by_id('10').set_text('')\n",
    "v.get_label_by_id('11').set_text('\\n'.join(A&B))\n",
    "v.get_label_by_id('01').set_text('')\n",
    "plt.gca().set_facecolor('grey')\n",
    "plt.annotate('U',xy=(-0.7,0.45))\n",
    "plt.gca().set_axis_on()"
   ]
  },
  {
   "cell_type": "code",
   "execution_count": 64,
   "metadata": {},
   "outputs": [
    {
     "data": {
      "image/png": "[encoded data removed]",
      "text/plain": [
       "<Figure size 432x288 with 1 Axes>"
      ]
     },
     "metadata": {},
     "output_type": "display_data"
    }
   ],
   "source": [
    "plt.title('A - B')\n",
    "v = vplt.venn2([A,B], ('Set A', 'Set B'),set_colors=('r','w'),alpha=1)\n",
    "v.get_patch_by_id('11').set_color('w')\n",
    "v.get_label_by_id('10').set_text('\\n'.join(A-B))\n",
    "v.get_label_by_id('11').set_text('')\n",
    "v.get_label_by_id('01').set_text('')\n",
    "plt.gca().set_facecolor('grey')\n",
    "plt.annotate('U',xy=(-0.7,0.45))\n",
    "plt.gca().set_axis_on()"
   ]
  },
  {
   "cell_type": "code",
   "execution_count": 63,
   "metadata": {},
   "outputs": [
    {
     "data": {
      "image/png": "[encoded data removed]",
      "text/plain": [
       "<Figure size 432x288 with 1 Axes>"
      ]
     },
     "metadata": {},
     "output_type": "display_data"
    }
   ],
   "source": [
    "plt.title('A union B')\n",
    "v = vplt.venn2([A,B], ('Set A', 'Set B'),set_colors=('r','r'),alpha=1)\n",
    "v.get_patch_by_id('11').set_color('r')\n",
    "v.get_label_by_id('10').set_text('\\n'.join(A-B))\n",
    "v.get_label_by_id('11').set_text('\\n'.join(A&B))\n",
    "v.get_label_by_id('01').set_text('\\n'.join(B-A))\n",
    "plt.gca().set_facecolor('w')\n",
    "plt.annotate('U',xy=(-0.7,0.45))\n",
    "plt.gca().set_axis_on()"
   ]
  },
  {
   "cell_type": "code",
   "execution_count": null,
   "metadata": {},
   "outputs": [],
   "source": []
  }
 ],
 "metadata": {
  "kernelspec": {
   "display_name": "Python 3",
   "language": "python",
   "name": "python3"
  },
  "language_info": {
   "codemirror_mode": {
    "name": "ipython",
    "version": 3
   },
   "file_extension": ".py",
   "mimetype": "text/x-python",
   "name": "python",
   "nbconvert_exporter": "python",
   "pygments_lexer": "ipython3",
   "version": "3.7.3"
  }
 },
 "nbformat": 4,
 "nbformat_minor": 2
}
